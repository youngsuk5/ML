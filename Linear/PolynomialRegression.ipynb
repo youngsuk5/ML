{
  "nbformat": 4,
  "nbformat_minor": 0,
  "metadata": {
    "colab": {
      "name": "PolynomialRegression.ipynb",
      "provenance": [],
      "authorship_tag": "ABX9TyO9awmKxbCgvzBPeODH8ElS",
      "include_colab_link": true
    },
    "kernelspec": {
      "name": "python3",
      "display_name": "Python 3"
    },
    "language_info": {
      "name": "python"
    }
  },
  "cells": [
    {
      "cell_type": "markdown",
      "metadata": {
        "id": "view-in-github",
        "colab_type": "text"
      },
      "source": [
        "<a href=\"https://colab.research.google.com/github/youngsuk5/ML/blob/main/Linear/PolynomialRegression.ipynb\" target=\"_parent\"><img src=\"https://colab.research.google.com/assets/colab-badge.svg\" alt=\"Open In Colab\"/></a>"
      ]
    },
    {
      "cell_type": "markdown",
      "metadata": {
        "id": "GIw1KfJjw9qu"
      },
      "source": [
        "보스턴 주택 가격에 대한 다항 회귀"
      ]
    },
    {
      "cell_type": "code",
      "metadata": {
        "id": "2gXE94hmwgy6"
      },
      "source": [
        "from sklearn.preprocessing import PolynomialFeatures, StandardScaler\n",
        "from sklearn.linear_model import LinearRegression\n",
        "from sklearn.pipeline import make_pipeline\n",
        "from sklearn.datasets import load_boston\n",
        "from sklearn.model_selection import train_test_split"
      ],
      "execution_count": 2,
      "outputs": []
    },
    {
      "cell_type": "code",
      "metadata": {
        "id": "Mris2WOrxkNY"
      },
      "source": [
        "X, y = load_boston(return_X_y=True)\n",
        "X_train, X_test, y_train, y_test = train_test_split(X, y, random_state=123)"
      ],
      "execution_count": 3,
      "outputs": []
    },
    {
      "cell_type": "code",
      "metadata": {
        "colab": {
          "base_uri": "https://localhost:8080/"
        },
        "id": "WlGQ6XFAx5aJ",
        "outputId": "fe56dbcd-1470-4ddd-96b8-56c3deed50bf"
      },
      "source": [
        "model = make_pipeline(\n",
        "    PolynomialFeatures(degree=2),\n",
        "    StandardScaler(),\n",
        "    LinearRegression()\n",
        ")\n",
        "model.fit(X_train, y_train)"
      ],
      "execution_count": 4,
      "outputs": [
        {
          "output_type": "execute_result",
          "data": {
            "text/plain": [
              "Pipeline(memory=None,\n",
              "         steps=[('polynomialfeatures',\n",
              "                 PolynomialFeatures(degree=2, include_bias=True,\n",
              "                                    interaction_only=False, order='C')),\n",
              "                ('standardscaler',\n",
              "                 StandardScaler(copy=True, with_mean=True, with_std=True)),\n",
              "                ('linearregression',\n",
              "                 LinearRegression(copy_X=True, fit_intercept=True, n_jobs=None,\n",
              "                                  normalize=False))],\n",
              "         verbose=False)"
            ]
          },
          "metadata": {
            "tags": []
          },
          "execution_count": 4
        }
      ]
    },
    {
      "cell_type": "code",
      "metadata": {
        "colab": {
          "base_uri": "https://localhost:8080/"
        },
        "id": "oJ1wqncVyHp5",
        "outputId": "286dca4f-ea63-4225-e278-0b00c2eb4e61"
      },
      "source": [
        "print('학습 데이터 점수 :', model.score(X_train, y_train))\n",
        "print('평가 데이터 점수 :', model.score(X_test, y_test))"
      ],
      "execution_count": 5,
      "outputs": [
        {
          "output_type": "stream",
          "text": [
            "학습 데이터 점수 : 0.9346787783950696\n",
            "평가 데이터 점수 : 0.825786471800239\n"
          ],
          "name": "stdout"
        }
      ]
    },
    {
      "cell_type": "code",
      "metadata": {
        "colab": {
          "base_uri": "https://localhost:8080/",
          "height": 297
        },
        "id": "trkyJMbTyLtm",
        "outputId": "6828443f-1a12-45bf-b14a-dbaa55eb0401"
      },
      "source": [
        "import matplotlib.pyplot as plt\n",
        "\n",
        "def plot_boston_prices(expected, predicted):\n",
        "   plt.figure(figsize=(8, 4))\n",
        "   plt.scatter(expected, predicted)\n",
        "   plt.plot([0, 50], [0, 50], '--r')\n",
        "   plt.xlabel('True price ($100,000s')\n",
        "   plt.ylabel('Predicted price ($100,000s')\n",
        "   plt.tight_layout()\n",
        "\n",
        "predicted = model.predict(X_test)\n",
        "expected = y_test\n",
        "plot_boston_prices(expected, predicted)"
      ],
      "execution_count": 6,
      "outputs": [
        {
          "output_type": "display_data",
          "data": {
            "image/png": "[encoded data removed]",
            "text/plain": [
              "<Figure size 576x288 with 1 Axes>"
            ]
          },
          "metadata": {
            "tags": [],
            "needs_background": "light"
          }
        }
      ]
    },
    {
      "cell_type": "markdown",
      "metadata": {
        "id": "iAPhFA2iyTYC"
      },
      "source": [
        "캘리포니아 주택 가격에 대한 다항회귀"
      ]
    },
    {
      "cell_type": "code",
      "metadata": {
        "id": "iVS57hpTyQJs"
      },
      "source": [
        "from sklearn.datasets import fetch_california_housing\n",
        "\n",
        "california = fetch_california_housing()\n",
        "\n",
        "X_train, X_test , y_train, y_test = train_test_split(california.data, california.target, test_size=0.2)"
      ],
      "execution_count": 11,
      "outputs": []
    },
    {
      "cell_type": "code",
      "metadata": {
        "colab": {
          "base_uri": "https://localhost:8080/"
        },
        "id": "pgB3oM_SykUp",
        "outputId": "a46e7054-b55b-4907-8f6f-fe0f60a8540b"
      },
      "source": [
        "model = make_pipeline(\n",
        "    PolynomialFeatures(degree=2),\n",
        "    StandardScaler(),\n",
        "    LinearRegression()\n",
        ")\n",
        "model.fit(X_train, y_train)"
      ],
      "execution_count": 12,
      "outputs": [
        {
          "output_type": "execute_result",
          "data": {
            "text/plain": [
              "Pipeline(memory=None,\n",
              "         steps=[('polynomialfeatures',\n",
              "                 PolynomialFeatures(degree=2, include_bias=True,\n",
              "                                    interaction_only=False, order='C')),\n",
              "                ('standardscaler',\n",
              "                 StandardScaler(copy=True, with_mean=True, with_std=True)),\n",
              "                ('linearregression',\n",
              "                 LinearRegression(copy_X=True, fit_intercept=True, n_jobs=None,\n",
              "                                  normalize=False))],\n",
              "         verbose=False)"
            ]
          },
          "metadata": {
            "tags": []
          },
          "execution_count": 12
        }
      ]
    },
    {
      "cell_type": "code",
      "metadata": {
        "colab": {
          "base_uri": "https://localhost:8080/"
        },
        "id": "XAmeJIenynkx",
        "outputId": "21a0bc1b-9fba-4714-e08b-ae832a24370e"
      },
      "source": [
        "print('학습 데이터 점수 :', model.score(X_train, y_train))\n",
        "print('평가 데이터 점수 :', model.score(X_test, y_test))"
      ],
      "execution_count": 13,
      "outputs": [
        {
          "output_type": "stream",
          "text": [
            "학습 데이터 점수 : 0.681189464146273\n",
            "평가 데이터 점수 : 0.687961983714102\n"
          ],
          "name": "stdout"
        }
      ]
    },
    {
      "cell_type": "code",
      "metadata": {
        "colab": {
          "base_uri": "https://localhost:8080/",
          "height": 297
        },
        "id": "0jpGbujjyq7A",
        "outputId": "6a699179-ff56-4dfe-9d9c-ddbd449dd39a"
      },
      "source": [
        "def plot_california_prices(expected, predicted):\n",
        "   plt.figure(figsize=(8, 4))\n",
        "   plt.scatter(expected, predicted)\n",
        "   plt.plot([0, 5], [0, 5], '--r')\n",
        "   plt.xlabel('True price ($100,000s')\n",
        "   plt.ylabel('Predicted price ($100,000s')\n",
        "   plt.tight_layout()\n",
        "\n",
        "predicted = model.predict(X_test)\n",
        "expected = y_test\n",
        "plot_california_prices(expected, predicted)"
      ],
      "execution_count": 14,
      "outputs": [
        {
          "output_type": "display_data",
          "data": {
            "image/png": "[encoded data removed]",
            "text/plain": [
              "<Figure size 576x288 with 1 Axes>"
            ]
          },
          "metadata": {
            "tags": [],
            "needs_background": "light"
          }
        }
      ]
    },
    {
      "cell_type": "code",
      "metadata": {
        "id": "hquOw8HSyzQd"
      },
      "source": [
        ""
      ],
      "execution_count": null,
      "outputs": []
    }
  ]
}